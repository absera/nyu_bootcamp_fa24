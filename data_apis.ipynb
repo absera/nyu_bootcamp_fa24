{
 "cells": [
  {
   "cell_type": "markdown",
   "metadata": {},
   "source": [
    "### Accessing Data with API's\n",
    "\n",
    "**OBJECTIVES**\n",
    "\n",
    "- More with `groupby` and `.agg`\n",
    "- Data Access via API\n"
   ]
  },
  {
   "cell_type": "code",
   "execution_count": 1,
   "metadata": {},
   "outputs": [],
   "source": [
    "import pandas as pd\n",
    "import numpy as np\n",
    "import seaborn as sns\n",
    "import matplotlib.pyplot as plt"
   ]
  },
  {
   "cell_type": "markdown",
   "metadata": {},
   "source": [
<<<<<<< HEAD
    "#### The Data\n",
    "\n",
    "The dataset `salesdaily.csv` contains daily pharmaceutical sales data and the columns are described as follows:\n",
    "\n",
    "```\n",
    "M01AB - Anti-inflammatory and antirheumatic products, non-steroids, Acetic acid derivatives and related substances\n",
    "M01AE - Anti-inflammatory and antirheumatic products, non-steroids, Propionic acid derivatives\n",
    "N02BA - Other analgesics and antipyretics, Salicylic acid and derivatives\n",
    "N02BE/B - Other analgesics and antipyretics, Pyrazolones and Anilides\n",
    "N05B - Psycholeptics drugs, Anxiolytic drugs\n",
    "N05C - Psycholeptics drugs, Hypnotics and sedatives drugs\n",
    "R03 - Drugs for obstructive airway diseases\n",
    "R06 - Antihistamines for systemic use\n",
    "```\n",
    "\n",
    "Load in the data and be sure to set a `datetime` index. "
   ]
  },
  {
   "cell_type": "code",
   "execution_count": 2,
   "metadata": {},
   "outputs": [
    {
     "data": {
      "text/html": [
       "<div>\n",
       "<style scoped>\n",
       "    .dataframe tbody tr th:only-of-type {\n",
       "        vertical-align: middle;\n",
       "    }\n",
       "\n",
       "    .dataframe tbody tr th {\n",
       "        vertical-align: top;\n",
       "    }\n",
       "\n",
       "    .dataframe thead th {\n",
       "        text-align: right;\n",
       "    }\n",
       "</style>\n",
       "<table border=\"1\" class=\"dataframe\">\n",
       "  <thead>\n",
       "    <tr style=\"text-align: right;\">\n",
       "      <th></th>\n",
       "      <th>M01AB</th>\n",
       "      <th>M01AE</th>\n",
       "      <th>N02BA</th>\n",
       "      <th>N02BE</th>\n",
       "      <th>N05B</th>\n",
       "      <th>N05C</th>\n",
       "      <th>R03</th>\n",
       "      <th>R06</th>\n",
       "      <th>Year</th>\n",
       "      <th>Month</th>\n",
       "      <th>Hour</th>\n",
       "      <th>Weekday Name</th>\n",
       "    </tr>\n",
       "    <tr>\n",
       "      <th>datum</th>\n",
       "      <th></th>\n",
       "      <th></th>\n",
       "      <th></th>\n",
       "      <th></th>\n",
       "      <th></th>\n",
       "      <th></th>\n",
       "      <th></th>\n",
       "      <th></th>\n",
       "      <th></th>\n",
       "      <th></th>\n",
       "      <th></th>\n",
       "      <th></th>\n",
       "    </tr>\n",
       "  </thead>\n",
       "  <tbody>\n",
       "    <tr>\n",
       "      <th>2014-01-02</th>\n",
       "      <td>0.0</td>\n",
       "      <td>3.67</td>\n",
       "      <td>3.4</td>\n",
       "      <td>32.40</td>\n",
       "      <td>7.0</td>\n",
       "      <td>0.0</td>\n",
       "      <td>0.0</td>\n",
       "      <td>2.0</td>\n",
       "      <td>2014</td>\n",
       "      <td>1</td>\n",
       "      <td>248</td>\n",
       "      <td>Thursday</td>\n",
       "    </tr>\n",
       "    <tr>\n",
       "      <th>2014-01-03</th>\n",
       "      <td>8.0</td>\n",
       "      <td>4.00</td>\n",
       "      <td>4.4</td>\n",
       "      <td>50.60</td>\n",
       "      <td>16.0</td>\n",
       "      <td>0.0</td>\n",
       "      <td>20.0</td>\n",
       "      <td>4.0</td>\n",
       "      <td>2014</td>\n",
       "      <td>1</td>\n",
       "      <td>276</td>\n",
       "      <td>Friday</td>\n",
       "    </tr>\n",
       "    <tr>\n",
       "      <th>2014-01-04</th>\n",
       "      <td>2.0</td>\n",
       "      <td>1.00</td>\n",
       "      <td>6.5</td>\n",
       "      <td>61.85</td>\n",
       "      <td>10.0</td>\n",
       "      <td>0.0</td>\n",
       "      <td>9.0</td>\n",
       "      <td>1.0</td>\n",
       "      <td>2014</td>\n",
       "      <td>1</td>\n",
       "      <td>276</td>\n",
       "      <td>Saturday</td>\n",
       "    </tr>\n",
       "    <tr>\n",
       "      <th>2014-01-05</th>\n",
       "      <td>4.0</td>\n",
       "      <td>3.00</td>\n",
       "      <td>7.0</td>\n",
       "      <td>41.10</td>\n",
       "      <td>8.0</td>\n",
       "      <td>0.0</td>\n",
       "      <td>3.0</td>\n",
       "      <td>0.0</td>\n",
       "      <td>2014</td>\n",
       "      <td>1</td>\n",
       "      <td>276</td>\n",
       "      <td>Sunday</td>\n",
       "    </tr>\n",
       "    <tr>\n",
       "      <th>2014-01-06</th>\n",
       "      <td>5.0</td>\n",
       "      <td>1.00</td>\n",
       "      <td>4.5</td>\n",
       "      <td>21.70</td>\n",
       "      <td>16.0</td>\n",
       "      <td>2.0</td>\n",
       "      <td>6.0</td>\n",
       "      <td>2.0</td>\n",
       "      <td>2014</td>\n",
       "      <td>1</td>\n",
       "      <td>276</td>\n",
       "      <td>Monday</td>\n",
       "    </tr>\n",
       "  </tbody>\n",
       "</table>\n",
       "</div>"
      ],
      "text/plain": [
       "            M01AB  M01AE  N02BA  N02BE  N05B  N05C   R03  R06  Year  Month  \\\n",
       "datum                                                                        \n",
       "2014-01-02    0.0   3.67    3.4  32.40   7.0   0.0   0.0  2.0  2014      1   \n",
       "2014-01-03    8.0   4.00    4.4  50.60  16.0   0.0  20.0  4.0  2014      1   \n",
       "2014-01-04    2.0   1.00    6.5  61.85  10.0   0.0   9.0  1.0  2014      1   \n",
       "2014-01-05    4.0   3.00    7.0  41.10   8.0   0.0   3.0  0.0  2014      1   \n",
       "2014-01-06    5.0   1.00    4.5  21.70  16.0   2.0   6.0  2.0  2014      1   \n",
       "\n",
       "            Hour Weekday Name  \n",
       "datum                          \n",
       "2014-01-02   248     Thursday  \n",
       "2014-01-03   276       Friday  \n",
       "2014-01-04   276     Saturday  \n",
       "2014-01-05   276       Sunday  \n",
       "2014-01-06   276       Monday  "
      ]
     },
     "execution_count": 2,
     "metadata": {},
     "output_type": "execute_result"
    }
   ],
   "source": [
    "#read in the data\n",
    "sales = pd.read_csv('https://raw.githubusercontent.com/jfkoehler/nyu_bootcamp_fa24/main/data/salesdaily.csv', index_col = 0, parse_dates=True)\n",
    "sales.head()"
   ]
  },
  {
   "cell_type": "code",
   "execution_count": 3,
   "metadata": {},
   "outputs": [
    {
     "name": "stdout",
     "output_type": "stream",
     "text": [
      "<class 'pandas.core.frame.DataFrame'>\n",
      "DatetimeIndex: 2106 entries, 2014-01-02 to 2019-10-08\n",
      "Data columns (total 12 columns):\n",
      " #   Column        Non-Null Count  Dtype  \n",
      "---  ------        --------------  -----  \n",
      " 0   M01AB         2106 non-null   float64\n",
      " 1   M01AE         2106 non-null   float64\n",
      " 2   N02BA         2106 non-null   float64\n",
      " 3   N02BE         2106 non-null   float64\n",
      " 4   N05B          2106 non-null   float64\n",
      " 5   N05C          2106 non-null   float64\n",
      " 6   R03           2106 non-null   float64\n",
      " 7   R06           2106 non-null   float64\n",
      " 8   Year          2106 non-null   int64  \n",
      " 9   Month         2106 non-null   int64  \n",
      " 10  Hour          2106 non-null   int64  \n",
      " 11  Weekday Name  2106 non-null   object \n",
      "dtypes: float64(8), int64(3), object(1)\n",
      "memory usage: 213.9+ KB\n"
     ]
    }
   ],
   "source": [
    "#look at the info\n",
    "sales.info()"
   ]
  },
  {
   "cell_type": "markdown",
   "metadata": {},
   "source": [
    "**EXAMPLE**\n",
    "\n",
    "How do the daily average sales of `M01AB` compare to those of `NO5B`?  Construct a horizontal bar chart."
   ]
  },
  {
   "cell_type": "code",
   "execution_count": 4,
   "metadata": {},
   "outputs": [
    {
     "data": {
      "image/png": "iVBORw0KGgoAAAANSUhEUgAAAnEAAAGdCAYAAAB94yVcAAAAOXRFWHRTb2Z0d2FyZQBNYXRwbG90bGliIHZlcnNpb24zLjcuMiwgaHR0cHM6Ly9tYXRwbG90bGliLm9yZy8pXeV/AAAACXBIWXMAAA9hAAAPYQGoP6dpAABH60lEQVR4nO3deXxN597///fOPMcsCQmJoMQU0poqEUPTGlr0FNWWED2G9qCKVgdDq4KWqiq+WgnHWAdVbVWrKuYhhnTAoRTRommVhIREkv37w8++zxY0WxPbSl7Px2M97qxrTZ+19L73+77WutYymc1mswAAAGAoDvYuAAAAALYjxAEAABgQIQ4AAMCACHEAAAAGRIgDAAAwIEIcAACAARHiAAAADIgQBwAAYEBO9i4AxSc/P1+nT5+Wt7e3TCaTvcsBAACFYDabdfHiRQUEBMjB4db9bYS4Euz06dMKDAy0dxkAAOAOnDp1SlWrVr3lckJcCebt7S3p2n8EPj4+dq4GAAAURkZGhgIDAy2/47dCiCvBrt9C9fHxIcQBAGAwf/UoFAMbAAAADIgQBwAAYECEOAAAAAPimTgAAEoZs9ms3Nxc5eXl2buUUsnR0VFOTk5/+/VfhDgAAEqRnJwcnTlzRllZWfYupVTz8PCQv7+/XFxc7ngfhDgAAEqJ/Px8HT9+XI6OjgoICJCLiwsvg7/LzGazcnJy9Pvvv+v48eOqWbPmbV/oezuEOAAASomcnBzl5+crMDBQHh4e9i6n1HJ3d5ezs7NOnjypnJwcubm53dF+GNgAAEApc6c9Pyg6RfFvwL8iAACAARHiAAAADIhn4kqD+KqSKw+uAkCp5xUotZwqpV2WnP7vd6H6jNN3tYwTkzre1eOVVPTEAQCAe15sbKxMJpMGDhxYYNngwYNlMpkUGxtraZs1a5aCg4Pl5uamJk2aaMuWLVbbrFq1SjExMapQoYJMJpNSUlJueeyJEyfK0dFRkyZNKrBs/vz5MplMlsnLy0tNmjTRqlWr7vhcC4sQBwAADCEwMFDLli3T5cuXLW1XrlzR0qVLFRQUZGn7+OOPNWzYML366qvav3+/WrVqpUceeUSpqamWdTIzM9WyZcubBrMbJSYmatSoUUpISLjpch8fH505c0ZnzpzR/v37FRMTo+7du+vw4cN/42z/GiEOAAAYQuPGjRUUFGTVy7Vq1SoFBgYqPDzc0jZt2jTFxcWpf//+qlOnjqZPn67AwEDNnj3bss4zzzyjMWPGqF27drc95qZNm3T58mW98cYbyszM1ObNmwusYzKZ5OfnJz8/P9WsWVMTJkyQg4ODvv/++yI461sjxAEAAMPo27evEhMTLfMJCQnq16+fZT4nJ0d79+7VQw89ZLXdQw89pO3bt9t8vHnz5unJJ5+Us7OznnzySc2bN++26+fl5WnBggWSroXO4kSIAwAAhvHMM89o69atOnHihE6ePKlt27bp6aeftiz/448/lJeXp8qVK1ttV7lyZZ09e9amY2VkZGjlypWW/T/99NNasWKFMjIyrNZLT0+Xl5eXvLy85OLiokGDBmnu3LmqUaPGHZ5l4TA6FQAAGEaFChXUsWNHLViwQGazWR07dlSFChUKrHfj58TMZrPNnxhbsmSJQkJC1LBhQ0lSo0aNFBISomXLlumf//ynZT1vb2/t27dPkpSVlaVvvvlGAwYMUPny5dW5c2dbT7HQCHEAAMBQ+vXrp+eff16S9MEHH1gtq1ChghwdHQv0uqWlpRXonfsrCQkJOnDggJyc/i8u5efna968eVYhzsHBQaGhoZb5Bg0a6Ouvv9bkyZMJcSVBbGysLly4oNWrV9u7FAAADO3hhx9WTk6OJCkmJsZqmYuLi5o0aaL169era9eulvb169frscceK/QxfvjhB+3Zs0dJSUkqV66cpf3ChQuKjIzUjz/+qHr16t1ye0dHR6tRtMWhRDwTl5aWpgEDBigoKEiurq7y8/NTTEyMduzYUajt58+frzJlyhRvkQAAoEg4Ojrq0KFDOnTokBwdHQssHz58uD766CMlJCTo0KFDeuGFF5Sammr1jrk///xTKSkpOnjwoCTp8OHDSklJsfTgzZs3Tw888IAiIyNVr149y/Tggw+qefPmVgMczGazzp49q7Nnz+r48eOaO3euvvrqK5tC450oET1xjz/+uK5evaoFCxYoJCREv/32mzZs2KA///zzrtdy9epVOTs73/XjAgBwp04MCSjYGBBesO0e4uPjc8tlPXr00Llz5/TGG2/ozJkzqlevntauXatq1apZ1lmzZo369u1rme/Zs6ckaezYsXrllVe0aNEivfTSSzfd/+OPP674+HhNnjxZ0rUBEP7+/pIkV1dXVatWTW+88cYtty8qJrPZbC7WIxSzCxcuqGzZskpKSlJUVNRN15k2bZoSExP1888/q1y5curcubOmTJkiLy8vJSUlKTo62mr9sWPHaty4cTKZTPrkk0/UpUsXy7IyZcpo+vTpio2N1YkTJxQcHKyPP/5Ys2bN0s6dOzV79mz17t1bI0eOVEJCghwdHRUXF6fffvtN6enpltup69at04QJE/Tjjz/K0dFRzZs313vvvWcZydKmTRvVrVtXM2fOtBz73LlzCggI0Jdffqk2bdr85bXJyMiQr6+v0l/2lg+f3QKAUu+KV6COt5yq4CoV5eb0F78L93iIM7orV67o+PHjlq9K/C/L73d6+m3DquFvp14f0rt69WplZ2ffdB0HBwfNmDFDP/74oxYsWKBvv/1Wo0aNkiS1aNFC06dPt3rb8ogRI2yq4aWXXtKQIUN06NAhxcTEaOrUqUpISNC8efO0detW/fnnn/rkk0+stsnMzNTw4cOVnJysDRs2yMHBQV27dlV+fr4kqX///lqyZInVOS1evFgBAQEFQud12dnZysjIsJoAAEDJZPjbqU5OTpo/f76effZZzZkzR40bN1ZUVJR69uypBg0aSJKGDRtmWT84OFhvvvmmBg0apFmzZsnFxUW+vr6Wty3fiWHDhqlbt26W+enTp2v06NF6/PHHJUlz5szRV199ZbXN9WXXzZs3T5UqVdLBgwdVr149Pf744/rXv/6lTz/9VN27d5d07bMf178ddzPx8fEaP358gfZ6V+bJwexxR+cGoHTgg+SlxJUr0vHjUqVg6YbeHxiP4XvipGuB6PTp01qzZo1iYmKUlJSkxo0ba/78+ZKkjRs3qn379qpSpYq8vb3Vu3dvnTt3TpmZmUVy/IiICMvf6enpOnPmjJo3b25pc3JyslpHko4dO6ZevXopJCREPj4+Cg4OliTLd91cXV319NNPW77TlpKSou+++87q4743Gj16tNLT0y3TqVOniuT8AADAvadEhDhJcnNzU/v27TVmzBht375dsbGxGjt2rE6ePKkOHTqoXr16Wrlypfbu3Wt5p8zVq1dvu0+TyaQbHxm82Taenp4219u5c2edO3dOH374oXbt2qVdu3ZJkmXItHTtlur69ev1yy+/KCEhQW3btrV6KPNGrq6u8vHxsZoAAEDJVGJC3I3q1q2rzMxM7dmzR7m5uZo6daqaNWumWrVq6fTp01bruri4KC8vr8A+KlasqDNnzljmf/rpJ2VlZd32uL6+vvL399fOnTstbbm5udq7d69l/ty5czp06JBee+01tW3bVnXq1NH58+cL7Kt+/fqKiIjQhx9+qCVLllh9Gw4AAJRuhn8m7ty5c3riiSfUr18/NWjQQN7e3tqzZ4+mTJmixx57TDVq1FBubq7ef/99de7cWdu2bdOcOXOs9lG9enVdunRJGzZsUMOGDeXh4SEPDw+1adNGM2fOVLNmzZSfn6+XXnqpUK8PGTp0qCZNmqSaNWuqTp06mjZtmi5cuGBZXrZsWZUvX15z586Vv7+/UlNT9fLLL990X/3799fzzz8vDw8Pq5cWAgCA0s3wPXFeXl5q2rSp3n33XcsL+V5//XU9++yzmjlzpho1aqRp06Zp8uTJqlevnhYvXqz4+HirfbRo0UIDBw5Ujx49VLFiRU2ZMkWSNHXqVAUGBioyMlK9evXSiBEj5OHx1wMEXnzxRfXu3VuxsbFq3ry5vL29rQKYg4ODli1bpr1796pevXp64YUX9Pbbb990X08++aScnJzUq1evAkOQAQBA6WX498SVdKdOnVL16tWVnJysxo0b27Tt9ffMBA5bLgdXRqcCuDVGp5YOt3s3Ge6uonhPnOFvp5ZUV69e1ZkzZ/Tyyy+rWbNmNgc4AABQshHi7lHbtm1TdHS0atWqpRUrVti7HABASTbO9y4fL93mTWJjY7VgwQLFx8dbPUe+evVqde3a1fI2iR9++EHPP/+8du/erXLlymnAgAF6/fXXLe9YvdmXmiTp0KFDuu+++66VN26c1XtXfXx81KBBA02YMOGWX4eyB0LcPap169YFXm8CAEBp5ubmpsmTJ2vAgAEqW7ZsgeUZGRlq3769oqOjlZycrCNHjig2Nlaenp568cUXrdY9fPiw1a3KihUrWi0PCwvTN998I0n6888/9c4776hTp0765Zdf5Ot7l0PvLRh+YAMAACgd2rVrJz8/vwIDFK9bvHixrly5ovnz56tevXrq1q2bXnnlFU2bNq1Ax0ilSpXk5+dnmRwdHa2WOzk5WZbVrVtX48eP16VLl3TkyJFiOz9bEeIAAIAhODo6auLEiXr//ff1yy+/FFi+Y8cORUVFydXV1dIWExOj06dP68SJE1brhoeHy9/fX23bttXGjRtve9zs7GzNnz9fZcqUUe3atYvkXIoCIQ4AABhG165d1ahRI40dO7bAsrNnz6py5cpWbdfnz549K0ny9/fX3LlztXLlSq1atUq1a9dW27ZttXnzZqvtfvjhB3l5ecnLy0vu7u565513tHTp0nvqa0g8E1cK/Dg+5p76jw4AgL9j8uTJatOmTYHn3CRZBjBcd/026vX22rVrW/WmNW/eXKdOndI777yjyMhIS3vt2rW1Zs0aSdLFixf18ccf64knntDGjRsLfA/dXuiJAwAAhhIZGamYmBi98sorVu1+fn6WHrfr0tLSJKlAD93/atasmX766SerNhcXF4WGhio0NFTh4eGaNGmSqlSpounTpxfNSRQBQhwAADCcSZMm6bPPPtP27dstbc2bN9fmzZuVk5Njafv6668VEBCg6tWr33Jf+/fvl7+//18e09HRUZcvX/5bdRclbqcCAADDqV+/vp566im9//77lrZevXpp/Pjxio2N1SuvvKKffvpJEydO1JgxYyy3U6dPn67q1asrLCxMOTk5WrRokVauXKmVK1da7T83N9fSq3f9durBgwf10ksv3b2T/AuEOAAAYEhvvvmmli9fbpn39fXV+vXr9dxzzykiIkJly5bV8OHDNXz4cMs6OTk5GjFihH799Ve5u7srLCxMX3zxhTp06GC17wMHDlh65zw8PFSjRg3Nnj1bvXv3vjsnVwh8O7UEK+y31wAApQPfTr13FMW3U3kmDgAAwIAIcQAAAAZEiAMAADAgQhwAAIABEeIAAAAMiBAHAEApw4sp7K8o/g0IcQAAlBLOzs6SpKysLDtXguv/Btf/Te4EL/sFAKCUcHR0VJkyZSzfE/Xw8CjwwXgUL7PZrKysLKWlpalMmTJydHS8430R4gAAKEX8/Pwk/d+H4WEfZcqUsfxb3ClCHAAApYjJZJK/v78qVaqkq1ev2rucUsnZ2flv9cBdR4gDAKAUcnR0LJIgAfthYAMAAIABEeIAAAAMiBAHAABgQIQ4AAAAAyLEAQAAGBAhDgAAwIAIcQAAAAZEiAMAADAgQhwAAIABEeIAAAAMiM9ulQbxVSVXk72rAGAU49LtXQGAQqAnDgAAwIAIcQAAAAZEiAMAADAgQhwAAIABEeIAAAAMiBAHAABgQIQ4AAAAAyLE3SXjxo1To0aN7F0GAAAoIUpdiEtLS9OAAQMUFBQkV1dX+fn5KSYmRjt27LB3aQAAAIVW6r7Y8Pjjj+vq1atasGCBQkJC9Ntvv2nDhg36888/7V0aAABAoZWqnrgLFy5o69atmjx5sqKjo1WtWjU98MADGj16tDp27KgTJ07IZDIpJSXFahuTyaSkpCRJUlJSkkwmkzZs2KCIiAh5eHioRYsWOnz4sNWxJk2apMqVK8vb21txcXG6cuWK1fLk5GS1b99eFSpUkK+vr6KiorRv3z7L8n79+qlTp05W2+Tm5srPz08JCQlFe2EAAIDhlKoQ5+XlJS8vL61evVrZ2dl/a1+vvvqqpk6dqj179sjJyUn9+vWzLFu+fLnGjh2rt956S3v27JG/v79mzZpltf3FixfVp08fbdmyRTt37lTNmjXVoUMHXbx4UZLUv39/rVu3TmfOnLFss3btWl26dEndu3e/aU3Z2dnKyMiwmgAAQMlkMpvNZnsXcTetXLlSzz77rC5fvqzGjRsrKipKPXv2VIMGDXTixAkFBwdr//79lkEIFy5cUNmyZbVx40a1bt1aSUlJio6O1jfffKO2bdtKuhauOnbsqMuXL8vNzU0tWrRQw4YNNXv2bMtxmzVrpitXrlj18v2vvLw8lS1bVkuWLLH0wIWFhalPnz4aNWqUJKlr164qU6aMEhMTb7qPcePGafz48QXaA4ctl4Orx51eMgD3mBOTOtq7BADFKCMjQ76+vkpPT5ePj88t1ytVPXHStWfiTp8+rTVr1igmJkZJSUlq3Lix5s+fb9N+GjRoYPnb399f0rVBE5J06NAhNW/e3Gr9G+fT0tI0cOBA1apVS76+vvL19dWlS5eUmppqWad///6WwJaWlqYvvvjCqsfvRqNHj1Z6erplOnXqlE3nBAAAjKPUhThJcnNzU/v27TVmzBht375dsbGxGjt2rBwcrl2O/+2cvHr16k334ezsbPnbZDJJkvLz8wtdQ2xsrPbu3avp06dr+/btSklJUfny5ZWTk2NZp3fv3vr555+1Y8cOLVq0SNWrV1erVq1uuU9XV1f5+PhYTQAAoGQqlSHuRnXr1lVmZqYqVqwoSVbPod3q9uft1KlTRzt37rRqu3F+y5YtGjJkiDp06KCwsDC5urrqjz/+sFqnfPny6tKlixITE5WYmKi+ffvaXAsAACiZStUrRs6dO6cnnnhC/fr1U4MGDeTt7a09e/ZoypQpeuyxx+Tu7q5mzZpp0qRJql69uv744w+99tprNh9n6NCh6tOnjyIiIvTggw9q8eLFOnDggEJCQizrhIaGauHChYqIiFBGRoZGjhwpd3f3Avvq37+/OnXqpLy8PPXp0+dvnT8AACg5SlVPnJeXl5o2bap3331XkZGRqlevnl5//XU9++yzmjlzpiQpISFBV69eVUREhIYOHaoJEybYfJwePXpozJgxeumll9SkSROdPHlSgwYNslonISFB58+fV3h4uJ555hkNGTJElSpVKrCvdu3ayd/fXzExMQoICLizEwcAACVOqRudajRZWVkKCAhQQkKCunXrZtO210e3MDoVKFkYnQqUbIUdnVqqbqcaSX5+vs6ePaupU6fK19dXjz76qL1LAgAA9xBC3D0qNTVVwcHBqlq1qubPny8nJ/6pAADA/yEZ3KOqV68u7nQDAIBbKVUDGwAAAEoKQhwAAIABEeIAAAAMiGfiSoEfx8fwCS4AAEoYeuIAAAAMiBAHAABgQIQ4AAAAAyLEAQAAGBAhDgAAwIAIcQAAAAZEiAMAADAgQhwAAIABEeIAAAAMiBAHAABgQIQ4AAAAAyLEAQAAGBAhDgAAwIAIcQAAAAZEiAMAADAgQhwAAIABEeIAAAAMiBAHAABgQIQ4AAAAAyLEAQAAGBAhDgAAwIAIcQAAAAZEiAMAADAgQhwAAIABEeIAAAAMyMneBeAuiK8quZrsXQUAAIUzLt3eFRgCPXEAAAAGRIgDAAAwIEIcAACAARHiAAAADIgQBwAAYECEOAAAAAMixAEAABgQIe4uGDdunBo1amTvMgAAQAlS4kNcbGysTCaTBg4cWGDZ4MGDZTKZFBsbe/cLAwAA+BtKfIiTpMDAQC1btkyXL1+2tF25ckVLly5VUFCQHSsDAAC4M6UixDVu3FhBQUFatWqVpW3VqlUKDAxUeHi4pS07O1tDhgxRpUqV5ObmpgcffFDJycmW5UlJSTKZTNqwYYMiIiLk4eGhFi1a6PDhw1bHmzRpkipXrixvb2/FxcXpypUrVsuTk5PVvn17VahQQb6+voqKitK+ffssy/v166dOnTpZbZObmys/Pz8lJCQUyTUBAADGVipCnCT17dtXiYmJlvmEhAT169fPap1Ro0Zp5cqVWrBggfbt26fQ0FDFxMTozz//tFrv1Vdf1dSpU7Vnzx45OTlZ7Wf58uUaO3as3nrrLe3Zs0f+/v6aNWuW1fYXL15Unz59tGXLFu3cuVM1a9ZUhw4ddPHiRUlS//79tW7dOp05c8ayzdq1a3Xp0iV17969yK4JAAAwLpPZbDbbulFubq6SkpJ07Ngx9erVS97e3jp9+rR8fHzk5eVVHHXesdjYWF24cEEfffSRqlatqv/+978ymUy67777dOrUKfXv319lypTRBx98oLJly2r+/Pnq1auXJOnq1auqXr26hg0bppEjRyopKUnR0dH65ptv1LZtW0nXwlXHjh11+fJlubm5qUWLFmrYsKFmz55tqaFZs2a6cuWKUlJSblpjXl6eypYtqyVLllh64MLCwtSnTx+NGjVKktS1a1eVKVPGKojeKDs7W9nZ2Zb5jIwMBQYGKv1lb/m4mv7WdQQA4K4Zl27vCuwqIyNDvr6+Sk9Pl4+Pzy3Xc7J1xydPntTDDz+s1NRUZWdnq3379vL29taUKVN05coVzZkz528VXlwqVKigjh07asGCBTKbzerYsaMqVKhgWX7s2DFdvXpVLVu2tLQ5OzvrgQce0KFDh6z21aBBA8vf/v7+kqS0tDQFBQXp0KFDBQZRNG/eXBs3brTMp6WlacyYMfr222/122+/KS8vT1lZWUpNTbWs079/f82dO1ejRo1SWlqavvjiC23YsOG25xgfH6/x48cXaK93ZZ4czB633RaA/Z2Y1NHeJQAwEJtvpw4dOlQRERE6f/683N3dLe1du3b9y5Bhb/369dP8+fO1YMGCArdSr3dImkymAu03tjk7O1v+vr4sPz+/0HXExsZq7969mj59urZv366UlBSVL19eOTk5lnV69+6tn3/+WTt27NCiRYtUvXp1tWrV6rb7HT16tNLT0y3TqVOnCl0TAAAwFptD3NatW/Xaa6/JxcXFqr1atWr69ddfi6yw4vDwww8rJydHOTk5iomJsVoWGhoqFxcXbd261dJ29epV7dmzR3Xq1Cn0MerUqaOdO3datd04v2XLFg0ZMkQdOnRQWFiYXF1d9ccff1itU758eXXp0kWJiYlKTExU3759//LYrq6u8vHxsZoAAEDJZPPt1Pz8fOXl5RVo/+WXX+Tt7V0kRRUXR0dHy61RR0dHq2Wenp4aNGiQRo4cqXLlyikoKEhTpkxRVlaW4uLiCn2MoUOHqk+fPoqIiNCDDz6oxYsX68CBAwoJCbGsExoaqoULFyoiIkIZGRkaOXKkVa/mdf3791enTp2Ul5enPn363OFZAwCAksjmnrj27dtr+vTplnmTyaRLly5p7Nix6tChQ1HWVixu10M1adIkPf7443rmmWfUuHFjHT16VF999ZXKli1b6P336NFDY8aM0UsvvaQmTZro5MmTGjRokNU6CQkJOn/+vMLDw/XMM89YXmtyo3bt2snf318xMTEKCAiw7UQBAECJZvPo1NOnTys6OlqOjo766aefFBERoZ9++kkVKlTQ5s2bbxpGcGeysrIUEBCghIQEdevWzebtr49uCRy2XA6uDGwA7nUMbAAgFePo1ICAAKWkpGjp0qXat2+f8vPzFRcXp6eeeuqmtwRhu/z8fJ09e1ZTp06Vr6+vHn30UXuXBAAA7jE2hzhJcnd3V79+/QqM8ETRSE1NVXBwsKpWrar58+fLyemO/pkAAEAJdkfp4Ndff9W2bduUlpZW4NUaQ4YMKZLCSrPq1avrDt7BDAAAShGbQ1xiYqIGDhwoFxcXlS9f3uodaiaTiRAHAABwF9gc4saMGaMxY8Zo9OjRcnAoNZ9eBQAAuKfYnMKysrLUs2dPAhwAAIAd2ZzE4uLi9J///Kc4agEAAEAh2fyeuLy8PHXq1EmXL19W/fr1rb4jKknTpk0r0gJx5wr7nhkAAHDvKLb3xE2cOFFfffWVateuLUkFBjYAAACg+Nkc4qZNm6aEhATFxsYWQzkAAAAoDJufiXN1dVXLli2LoxYAAAAUks0hbujQoXr//feLoxYAAAAUks23U3fv3q1vv/1Wn3/+ucLCwgoMbFi1alWRFQcAAICbsznElSlTRt26dSuOWgAAAFBId/TZLQAAANgXn10AAAAwIJt74iRpxYoVWr58uVJTU5WTk2O1bN++fUVSGAAAAG7N5p64GTNmqG/fvqpUqZL279+vBx54QOXLl9fPP/+sRx55pDhqBAAAwA1sDnGzZs3S3LlzNXPmTLm4uGjUqFFav369hgwZovT09OKoEQAAADewOcSlpqaqRYsWkiR3d3ddvHhRkvTMM89o6dKlRVsdAAAAbsrmEOfn56dz585JkqpVq6adO3dKko4fPy6z2Vy01QEAAOCmbA5xbdq00WeffSZJiouL0wsvvKD27durR48e6tq1a5EXCAAAgIJMZhu7z/Lz85Wfny8np2sDW5cvX66tW7cqNDRUAwcOlIuLS7EUCttlZGTI19dX6enp8vHxsXc5AACgEAr7+21ziINxEOIAADCewv5+F/o9campqYVaLygoqLC7BAAAwB0qdIirXr26TCZTgXaz2WxpN5lMys3NLbrqAAAAcFOFDnH79++/abvZbNayZcs0Y8YMeXl5FVlhAAAAuLVCh7iGDRsWaPvmm2/08ssv68iRIxo1apRGjBhRpMUBAADg5mx+xYgk7d27V+3bt1enTp3UrFkzHT16VOPGjaMnDgAA4C6xKcQdPXpUPXr0UNOmTVWxYkUdPHhQM2fOVKVKlYqrPgAAANxEoUPc4MGDFRYWpvT0dO3Zs0dLlixRSEhIcdYGAACAWyj0e+IcHBzk5uam++6777br7du3r0gKw9/He+IAADCeIn9P3NixY4ukMAAAAPx9fLGhBLMk+Ze95eNa8B1/AACUaOPS7V3BHSlsT9wdjU4FAACAfRHiAAAADIgQBwAAYECEOAAAAAOyOcQdP368OOoAAACADWwOcaGhoYqOjtaiRYt05cqV4qgJAAAAf8HmEPfdd98pPDxcL774ovz8/DRgwADt3r27OGoDAADALdgc4urVq6dp06bp119/VWJios6ePasHH3xQYWFhmjZtmn7//ffiqNPwqlevrunTp9u7DAAAUELc8cAGJycnde3aVcuXL9fkyZN17NgxjRgxQlWrVlXv3r115syZoqzTJiaT6bZTbGys3WoDAAAoCncc4vbs2aPBgwfL399f06ZN04gRI3Ts2DF9++23+vXXX/XYY48VZZ02OXPmjGWaPn26fHx8rNree+89u9UGAABQFGwOcdOmTVP9+vXVokULnT59Wv/+97918uRJTZgwQcHBwWrZsqX+3//7f9q3b19x1Fsofn5+lsnX11cmk8kyv27dOlWrVs1q/dWrV8tksv4s1WeffaYmTZrIzc1NISEhGj9+vHJzcy3Lx40bp6CgILm6uiogIEBDhgyxLEtLS1Pnzp3l7u6u4OBgLV68uECN16+jp6enAgMDNXjwYF26dEmSlJmZKR8fH61YsaJATZ6enrp48eLfvkYAAMDYnGzdYPbs2erXr5/69u0rPz+/m64TFBSkefPm/e3i7OWrr77S008/rRkzZqhVq1Y6duyY/vnPf0qSxo4dqxUrVujdd9/VsmXLFBYWprNnz+q7776zbB8bG6tTp07p22+/lYuLi4YMGaK0tDSrYzg4OGjGjBmqXr26jh8/rsGDB2vUqFGaNWuWPD091bNnTyUmJuof//iHZZvr897e3jetOzs7W9nZ2Zb5jIyMorwsAADgHmJziPvpp5/+ch0XFxf16dPnjgq6F7z11lt6+eWXLecQEhKiN998U6NGjdLYsWOVmpoqPz8/tWvXTs7OzgoKCtIDDzwgSTpy5Ii+/PJL7dy5U02bNpUkzZs3T3Xq1LE6xrBhwyx/BwcH680339SgQYM0a9YsSVL//v0tvZ0BAQH6448/9Pnnn2v9+vW3rDs+Pl7jx48v0F7vyjw5mD3+1jUBULxOTOpo7xIAGMwdPxOXlZWl//73v/r++++tppJg7969euONN+Tl5WWZnn32WZ05c0ZZWVl64okndPnyZYWEhOjZZ5/VJ598YrnVeujQITk5OSkiIsKyv/vuu09lypSxOsbGjRvVvn17ValSRd7e3urdu7fOnTunzMxMSdIDDzygsLAw/fvf/5YkLVy4UEFBQYqMjLxl3aNHj1Z6erplOnXqVBFfGQAAcK+wOcT9/vvv6tixo7y9vRUWFqbw8HCr6V7n4OAgs9ls1Xb16lWr+fz8fI0fP14pKSmW6YcfftBPP/0kNzc3BQYG6vDhw/rggw/k7u6uwYMHKzIyUlevXrXs+8Zn7P7XyZMn1aFDB9WrV08rV67U3r179cEHHxSopX///kpMTJR07VZq3759b7tfV1dX+fj4WE0AAKBksjnEDRs2TBcuXNDOnTvl7u6udevWacGCBapZs6bWrFlTHDUWqYoVK+rixYuWHi9JSklJsVqncePGOnz4sEJDQwtMDg7XLpm7u7seffRRzZgxQ0lJSdqxY4d++OEH1alTR7m5udqzZ49lf4cPH9aFCxcs83v27FFubq6mTp2qZs2aqVatWjp9+nSBWp9++mmlpqZqxowZOnDggKFvUQMAgKJl8zNx3377rT799FPdf//9cnBwULVq1dS+fXv5+PgoPj5eHTve2891NG3aVB4eHnrllVf0r3/9S7t379b8+fOt1hkzZow6deqkwMBAPfHEE3JwcND333+vH374QRMmTND8+fOVl5dn2dfChQvl7u6uatWqqXz58nr44Yf17LPPau7cuXJyctKwYcPk7u5u2X+NGjWUm5ur999/X507d9a2bds0Z86cArWWLVtW3bp108iRI/XQQw+patWqxX15AACAQdjcE5eZmalKlSpJksqVK2f5QkP9+vXt+lqRwipXrpwWLVqktWvXqn79+lq6dKnGjRtntU5MTIxlEMH999+vZs2aadq0aZZXk5QpU0YffvihWrZsqQYNGmjDhg367LPPVL58eUnXbn0GBgYqKipK3bp10z//+U/LNZOkRo0aadq0aZo8ebLq1aunxYsXKz4+/qb1xsXFKScnR/369SueCwIAAAzJZL7xAbG/cP/992vChAmKiYlRly5dLD1wM2bM0IoVK3Ts2LHiqrVUWrx4sYYOHarTp0/LxcXFpm0zMjLk6+urwGHL5eDK6FTgXsboVADXXf/9Tk9Pv+3z7TbfTh02bJjlk1pjx45VTEyMFi9eLBcXlwK3JXHnsrKydPz4ccXHx2vAgAE2BzgAAFCy2RzinnrqKcvf4eHhOnHihP773/8qKChIFSpUKNLiSrMpU6borbfeUmRkpEaPHm3vcgAAwD3G5tupMA5upwLGwe1UANcV6e3U4cOHF/rA06ZNK/S6AAAAuDOFCnH79++3mt+7d6/y8vJUu3ZtSdc+NeXo6KgmTZoUfYUAAAAooFAhbuPGjZa/p02bJm9vby1YsEBly5aVJJ0/f159+/ZVq1atiqdKAAAAWLH5PXFTp05VfHy8JcBJ115KO2HCBE2dOrVIiwMAAMDN2Tw6NSMjQ7/99pvCwsKs2tPS0nTx4sUiKwxF58fxMXxHFQCAEsbmnriuXbuqb9++WrFihX755Rf98ssvWrFiheLi4tStW7fiqBEAAAA3sLknbs6cORoxYoSefvppXb169dpOnJwUFxent99+u8gLBAAAQEF3/J64zMxMHTt2TGazWaGhofL09Czq2vA3FfY9MwAA4N5R2N9vm2+nbtiwQZLk6empBg0aqGHDhpYAN3PmzDssFwAAALawOcQ9/vjjSk5OLtA+ffp0vfLKK0VSFAAAAG7P5hD37rvvqkOHDjp48KCl7Z133tHYsWP1xRdfFGlxAAAAuDmbBzb07dtX586d00MPPaStW7fq448/1sSJE/Xll1+qRYsWxVEjAAAAbmBziJOkESNG6Ny5c4qIiFBeXp6+/vprNW3atKhrAwAAwC0UKsTNmDGjQJu/v788PDwUGRmpXbt2adeuXZKkIUOGFG2FAAAAKKBQrxgJDg4u3M5MJv38889/uygUDV4xAgCA8RT297tQPXHHjx8vssIAAADw99k8OvW6nJwcHT58WLm5uUVZDwAAAArB5hCXlZWluLg4eXh4KCwsTKmpqZKuPQs3adKkIi8QAAAABdkc4kaPHq3vvvtOSUlJcnNzs7S3a9dOH3/8cZEWBwAAgJuz+RUjq1ev1scff6xmzZrJZDJZ2uvWratjx44VaXEAAAC4OZt74n7//XdVqlSpQHtmZqZVqAMAAEDxsTnE3X///Vaf17oe3D788EM1b9686CoDAADALdl8OzU+Pl4PP/ywDh48qNzcXL333ns6cOCAduzYoU2bNhVHjQAAALiBzT1xLVq00LZt25SVlaUaNWro66+/VuXKlbVjxw41adKkOGoEAADADQr1xQYYE19sAADAeAr7+31HL/s9duyYXnvtNfXq1UtpaWmSpHXr1unAgQN3Vi0AAABsYnOI27Rpk+rXr69du3Zp5cqVunTpkiTp+++/19ixY4u8QAAAABRkc4h7+eWXNWHCBK1fv14uLi6W9ujoaO3YsaNIiwMAAMDN2RzifvjhB3Xt2rVAe8WKFXXu3LkiKQoAAAC3Z3OIK1OmjM6cOVOgff/+/apSpUqRFAUAAIDbs/k9cb169dJLL72k//znPzKZTMrPz9e2bds0YsQI9e7duzhqxN8VX1Vy5WsaAAAUmXHp9q7A9p64t956S0FBQapSpYouXbqkunXrKjIyUi1atNBrr71WHDUCAADgBoXuiTt69KhCQ0Pl7OysxYsX64033tD+/fuVn5+v8PBw1axZszjrBAAAwP8odIirVauWqlSpoujoaLVp00bR0dH6xz/+UZy1AQAA4BYKHeI2bdqkTZs2KSkpSc8995yuXLmioKAgS6CLjo5mYAMAAMBdckef3bp69ap27NihpKQkJSUlaefOncrOzlZoaKgOHz5cHHXiDlg+2/Gyt3wY2AAAQNEpxoENhf3sls2jUyXJ2dlZkZGRuv/++9W8eXN99dVX+vDDD3X06NE7LhgAAACFZ1OIu3LlirZv366NGzcqKSlJycnJCg4OVlRUlGbPnq2oqKjiqhMAAAD/o9AhLioqSsnJyapRo4YiIyP1r3/9S1FRUapcuXJx1ve3zZ8/X8OGDdOFCxfsVsOJEycUHBys/fv3q1GjRnarAwAAlByFfk/c9u3bVaFCBUVHR6tt27Zq06bN3wpwc+bMkbe3t3Jzcy1tly5dkrOzs1q1amW17pYtW2QymXTkyJE7Ph4AAEBJUugQd+HCBc2dO1ceHh6aPHmyqlSpovr16+v555/XihUr9Pvvv9t04OjoaF26dEl79uyxtG3ZskV+fn5KTk5WVlaWpT0pKUkBAQGqVauWTccAAAAoqQod4jw9PfXwww9r0qRJ2rVrl/744w9NmTJFHh4emjJliqpWrap69eoV+sC1a9dWQECAkpKSLG1JSUl67LHHVKNGDW3fvt2qPTo6Wjk5ORo1apSqVKkiT09PNW3a1Gp76drt06CgIHl4eKhr1646d+6c1fJx48apUaNGWrhwoapXry5fX1/17NlTFy9etKxjNps1ZcoUhYSEyN3dXQ0bNtSKFSssy8+fP6+nnnpKFStWlLu7u2rWrKnExETL8t27dys8PFxubm6KiIjQ/v37rWrIy8tTXFycgoOD5e7urtq1a+u9996zLN+8ebOcnZ119uxZq+1efPFFRUZGFvoaAwCAksvmz25d5+npqXLlyqlcuXIqW7asnJycdOjQIZv20bp1a23cuNEyv3HjRrVu3VpRUVGW9pycHO3YsUPR0dHq27evtm3bpmXLlun777/XE088oYcfflg//fSTJGnXrl3q16+fBg8erJSUFEVHR2vChAkFjnvs2DGtXr1an3/+uT7//HNt2rRJkyZNsix/7bXXlJiYqNmzZ+vAgQN64YUX9PTTT2vTpk2SpNdff10HDx7Ul19+qUOHDmn27NmqUKGCJCkzM1OdOnVS7dq1tXfvXo0bN04jRoywOn5+fr6qVq2q5cuX6+DBgxozZoxeeeUVLV++XJIUGRmpkJAQLVy40LJNbm6uFi1apL59+97yemZnZysjI8NqAgAAJVOh3xOXn5+vPXv2KCkpSRs3btS2bduUmZlp+YrD9alatWqFPviHH36oF154QRcuXNDly5dVrlw5/frrr9q4caNmzJihbdu2afPmzYqKitLRo0dVs2ZN/fLLLwoICLDso127dnrggQc0ceJE9erVS+fPn9eXX35pWd6zZ0+tW7fOMrBh3Lhxevvtt3X27Fl5e3tLkkaNGqXNmzdr586dyszMVIUKFfTtt9+qefPmlv30799fWVlZWrJkiR599FFVqFBBCQkJBc5p7ty5Gj16tE6dOiUPDw9J157/GzRo0G0HNjz33HP67bffLD1+U6ZM0fz583Xw4EFJ0qeffqqnn35aZ8+elaen5033MW7cOI0fP75Ae+Cw5XJw9bjVPwOAYnBiUkd7lwDAoIr8PXFlypRRZmam/P391bp1a02bNk3R0dGqUaPGHRcZHR2tzMxMJScn6/z586pVq5YqVaqkqKgoPfPMM8rMzFRSUpKCgoK0b98+mc3mAs/FZWdnq3z58pKkQ4cOqWvXrlbLmzdvrnXr1lm1Va9e3RLgJMnf319paWmSpIMHD+rKlStq37691TY5OTkKDw+XJA0aNEiPP/649u3bp4ceekhdunRRixYtLDU0bNjQEuCu13CjOXPm6KOPPtLJkyd1+fJl5eTkWAW82NhYvfbaa9q5c6eaNWumhIQEde/e/ZYBTpJGjx6t4cOHW+YzMjIUGBh4y/UBAIBxFTrEvf3224qOji7SwQWhoaGqWrWqNm7cqPPnz1veM+fn56fg4GBt27ZNGzduVJs2bZSfny9HR0ft3btXjo6OVvvx8vKSdO1ZtsJwdna2mjeZTMrPz5cky//84osvCnxGzNXVVZL0yCOP6OTJk/riiy/0zTffqG3btnruuef0zjvvFKqG5cuX64UXXtDUqVPVvHlzeXt76+2339auXbss61SqVEmdO3dWYmKiQkJCtHbt2gLP/93I1dXVUiMAACjZCh3iBgwYUCwFREdHKykpSefPn9fIkSMt7VFRUfrqq6+0c+dO9e3bV+Hh4crLy1NaWlqBV5BcV7duXe3cudOq7cb5v1K3bl25uroqNTX1ti8vrlixomJjYxUbG6tWrVpp5MiReuedd1S3bl0tXLhQly9flru7+01r2LJli1q0aKHBgwdb2o4dO1bgGP3791fPnj1VtWpV1ahRQy1btrTpXAAAQMl1xwMbikp0dLS2bt2qlJQUq9AUFRWlDz/8UFeuXLH0AD711FPq3bu3Vq1apePHjys5OVmTJ0/W2rVrJUlDhgzRunXrNGXKFB05ckQzZ84scCv1r3h7e2vEiBF64YUXtGDBAh07dkz79+/XBx98oAULFkiSxowZo08//VRHjx7VgQMH9Pnnn6tOnTqSpF69esnBwUFxcXE6ePCg1q5dq3feecfqGKGhodqzZ4+++uorHTlyRK+//rqSk5ML1BITEyNfX19NmDDhtgMaAABA6XNPhLjLly8rNDTU6uXBUVFRunjxomrUqGF5risxMVG9e/fWiy++qNq1a+vRRx/Vrl27LMubNWumjz76SO+//74aNWqkr7/+Wq+99prNNb355psaM2aM4uPjVadOHcXExOizzz5TcHCwJMnFxUWjR49WgwYNFBkZKUdHRy1btkzStVu7n332mQ4ePKjw8HC9+uqrmjx5stX+Bw4cqG7duqlHjx5q2rSpzp07Z9Urd52Dg4NiY2OVl5en3r1723weAACg5Cr06FTYx7PPPqvffvtNa9assXnb66NbGJ0K3H2MTgVwp4p8dCrurvT0dCUnJ2vx4sX69NNP7V0OAAC4xxDi7lGPPfaYdu/erQEDBhR43QkAAAAh7h71V68TAQAApZvdBzYAAADAdoQ4AAAAAyLEAQAAGBDPxJUCP46Pue0QZQAAYDz0xAEAABgQIQ4AAMCACHEAAAAGRIgDAAAwIEIcAACAARHiAAAADIgQBwAAYECEOAAAAAMixAEAABgQIQ4AAMCACHEAAAAGRIgDAAAwIEIcAACAARHiAAAADIgQBwAAYECEOAAAAAMixAEAABgQIQ4AAMCACHEAAAAGRIgDAAAwIEIcAACAARHiAAAADIgQBwAAYECEOAAAAAMixAEAABgQIQ4AAMCAnOxdAO6C+KqSq8neVQAAcG8bl27vCmxCTxwAAIABEeIAAAAMiBAHAABgQIQ4AAAAAyLEAQAAGBAhDgAAwIAIcQAAAAZEiCsCJpNJq1evvuXyEydOyGQyKSUl5a7VBAAASjZC3E3ExsbKZDIVmI4ePXrT9c+cOaNHHnnkLlcJAABKM77YcAsPP/ywEhMTrdoqVqxoNZ+TkyMXFxf5+fndzdIAAADoibsVV1dX+fn5WU1t27bV888/r+HDh6tChQpq3769pIK3U3fv3q3w8HC5ubkpIiJC+/fvt9p3Xl6e4uLiFBwcLHd3d9WuXVvvvfeeZfnmzZvl7Oyss2fPWm334osvKjIysvhOGgAAGAY9cTZasGCBBg0apG3btslsNhdYnpmZqU6dOqlNmzZatGiRjh8/rqFDh1qtk5+fr6pVq2r58uWqUKGCtm/frn/+85/y9/dX9+7dFRkZqZCQEC1cuFAjR46UJOXm5mrRokWaNGnSLWvLzs5Wdna2ZT4jI6OIzhoAANxrCHG38Pnnn8vLy8syf/2Zt9DQUE2ZMuWW2y1evFh5eXlKSEiQh4eHwsLC9Msvv2jQoEGWdZydnTV+/HjLfHBwsLZv367ly5ere/fukqS4uDglJiZaQtwXX3yhrKwsy/KbiY+Pt9rvdfWuzJOD2aOQZw7g7zoxqaO9SwBQCnA79Raio6OVkpJimWbMmCFJioiIuO12hw4dUsOGDeXh8X+hqXnz5gXWmzNnjiIiIlSxYkV5eXnpww8/VGpqqmV5bGysjh49qp07d0qSEhIS1L17d3l6et7y2KNHj1Z6erplOnXqlE3nDAAAjIOeuFvw9PRUaGjoTdtv52a3WG+0fPlyvfDCC5o6daqaN28ub29vvf3229q1a5dlnUqVKqlz585KTExUSEiI1q5dq6SkpNvu19XVVa6urn95fAAAYHyEuCJWt25dLVy4UJcvX5a7u7skWXrTrtuyZYtatGihwYMHW9qOHTtWYF/9+/dXz549VbVqVdWoUUMtW7Ys3uIBAIBhcDu1iPXq1UsODg6Ki4vTwYMHtXbtWr3zzjtW64SGhmrPnj366quvdOTIEb3++utKTk4usK+YmBj5+vpqwoQJ6tu37906BQAAYACEuCLm5eWlzz77TAcPHlR4eLheffVVTZ482WqdgQMHqlu3burRo4eaNm2qc+fOWfXKXefg4KDY2Fjl5eWpd+/ed+sUAACAAZjMhXmIC3bz7LPP6rffftOaNWts3jYjI0O+vr4KHLZcDq6MTgXuFkanAvg7rv9+p6eny8fH55br8UzcPSo9PV3JyclavHixPv30U3uXAwAA7jGEuHvUY489pt27d2vAgAGWL0MAAABcR4i7R/3V60QAAEDpxsAGAAAAAyLEAQAAGBAhDgAAwIB4Jq4U+HF8zG2HKAMAAOOhJw4AAMCACHEAAAAGRIgDAAAwIEIcAACAARHiAAAADIgQBwAAYECEOAAAAAMixAEAABgQIQ4AAMCACHEAAAAGRIgDAAAwIEIcAACAARHiAAAADIgQBwAAYECEOAAAAAMixAEAABgQIQ4AAMCACHEAAAAGRIgDAAAwIEIcAACAARHiAAAADIgQBwAAYECEOAAAAAMixAEAABgQIQ4AAMCACHEAAAAG5GTvAnAXxFeVXE32rgIAUBKMS7d3Bfj/0RMHAABgQIQ4AAAAAyLEAQAAGBAhDgAAwIAIcQAAAAZEiAMAADAgQhwAAIABldgQd+LECZlMJqWkpNi7FElS69atNWzYMHuXAQAASghDhjiTyXTbKTY21t4lAgAAFCtDfrHhzJkzlr8//vhjjRkzRocPH7a0ubu76/z588Vy7JycHLm4uBTLvgEAAArLkD1xfn5+lsnX11cmk6lA23U///yzoqOj5eHhoYYNG2rHjh2WZePGjVOjRo2s9j19+nRVr17dMh8bG6suXbooPj5eAQEBqlWrliRp1qxZqlmzptzc3FS5cmX94x//sGyTmZmp3r17y8vLS/7+/po6dWqBc1i0aJEiIiLk7e0tPz8/9erVS2lpaZIks9ms0NBQvfPOO1bb/Pjjj3JwcNCxY8fu+NoBAICSwZAhzhavvvqqRowYoZSUFNWqVUtPPvmkcnNzbdrHhg0bdOjQIa1fv16ff/659uzZoyFDhuiNN97Q4cOHtW7dOkVGRlrWHzlypDZu3KhPPvlEX3/9tZKSkrR3716rfebk5OjNN9/Ud999p9WrV+v48eOW28Amk0n9+vVTYmKi1TYJCQlq1aqVatSocdM6s7OzlZGRYTUBAICSyZC3U20xYsQIdezYUZI0fvx4hYWF6ejRo7rvvvsKvQ9PT0999NFHltuoq1atkqenpzp16iRvb29Vq1ZN4eHhkqRLly5p3rx5+ve//6327dtLkhYsWKCqVata7bNfv36Wv0NCQjRjxgw98MADunTpkry8vNS3b1+NGTNGu3fv1gMPPKCrV69q0aJFevvtt29ZZ3x8vMaPH1+gvd6VeXIwexT6fAHc3IlJHe1dAgBYlPieuAYNGlj+9vf3lyTLbcvCql+/vtVzcO3bt1e1atUUEhKiZ555RosXL1ZWVpYk6dixY8rJyVHz5s0t65crV061a9e22uf+/fv12GOPqVq1avL29lbr1q0lSampqZZaO3bsqISEBEnS559/ritXruiJJ564ZZ2jR49Wenq6ZTp16pRN5wkAAIyjxIc4Z2dny98mk0mSlJ+fL0lycHCQ2Wy2Wv/q1asF9uHp6Wk17+3trX379mnp0qXy9/fXmDFj1LBhQ124cKHA/m4mMzNTDz30kLy8vLRo0SIlJyfrk08+kXTtNut1/fv317Jly3T58mUlJiaqR48e8vC4dY+aq6urfHx8rCYAAFAylfgQdzsVK1bU2bNnrYJXYd8r5+TkpHbt2mnKlCn6/vvvdeLECX377bcKDQ2Vs7Ozdu7caVn3/PnzOnLkiGX+v//9r/744w9NmjRJrVq10n333XfT3sEOHTrI09NTs2fP1pdffml1CxYAAJRuJf6ZuNtp3bq1fv/9d02ZMkX/+Mc/tG7dOn355Zd/2YP1+eef6+eff1ZkZKTKli2rtWvXKj8/X7Vr15aXl5fi4uI0cuRIlS9fXpUrV9arr74qB4f/y8tBQUFycXHR+++/r4EDB+rHH3/Um2++WeA4jo6Oio2N1ejRoxUaGmp1ixYAAJRupbonrk6dOpo1a5Y++OADNWzYULt379aIESP+crsyZcpo1apVatOmjerUqaM5c+Zo6dKlCgsLkyS9/fbbioyM1KOPPqp27drpwQcfVJMmTSzbV6xYUfPnz9d//vMf1a1bV5MmTSrwOpHr4uLilJOTQy8cAACwYjIX5iEu2M22bdvUunVr/fLLL6pcubJN22ZkZMjX11eBw5bLwZXRqcDfxehUAHfD9d/v9PT0294dLNW3U+9l2dnZOnXqlF5//XV1797d5gAHAABKtlJ9O/VetnTpUtWuXVvp6emaMmWKvcsBAAD3GELcPSo2NlZ5eXnau3evqlSpYu9yAADAPYYQBwAAYECEOAAAAAMixAEAABgQo1NLgR/Hx/AJLgAAShh64gAAAAyIEAcAAGBAhDgAAAADIsQBAAAYECEOAADAgAhxAAAABkSIAwAAMCBCHAAAgAER4gAAAAyIEAcAAGBAhDgAAAAD4tupJZjZbJYkZWRk2LkSAABQWNd/t6//jt8KIa4EO3funCQpMDDQzpUAAABbXbx4Ub6+vrdcTogrwcqVKydJSk1Nve1/BCg6GRkZCgwM1KlTp+Tj42PvckoFrrl9cN3vPq753Weva242m3Xx4kUFBATcdj1CXAnm4HDtkUdfX1/+F/4u8/Hx4ZrfZVxz++C6331c87vPHte8MJ0vDGwAAAAwIEIcAACAARHiSjBXV1eNHTtWrq6u9i6l1OCa331cc/vgut99XPO7716/5ibzX41fBQAAwD2HnjgAAAADIsQBAAAYECEOAADAgAhxAAAABkSIK6FmzZql4OBgubm5qUmTJtqyZYu9SyrR4uPjdf/998vb21uVKlVSly5ddPjwYXuXVarEx8fLZDJp2LBh9i6lRPv111/19NNPq3z58vLw8FCjRo20d+9ee5dVYuXm5uq1115TcHCw3N3dFRISojfeeEP5+fn2Lq1E2bx5szp37qyAgACZTCatXr3aarnZbNa4ceMUEBAgd3d3tW7dWgcOHLBPsf+DEFcCffzxxxo2bJheffVV7d+/X61atdIjjzyi1NRUe5dWYm3atEnPPfecdu7cqfXr1ys3N1cPPfSQMjMz7V1aqZCcnKy5c+eqQYMG9i6lRDt//rxatmwpZ2dnffnllzp48KCmTp2qMmXK2Lu0Emvy5MmaM2eOZs6cqUOHDmnKlCl6++239f7779u7tBIlMzNTDRs21MyZM2+6fMqUKZo2bZpmzpyp5ORk+fn5qX379rp48eJdrtQarxgpgZo2barGjRtr9uzZlrY6deqoS5cuio+Pt2Nlpcfvv/+uSpUqadOmTYqMjLR3OSXapUuX1LhxY82aNUsTJkxQo0aNNH36dHuXVSK9/PLL2rZtGz37d1GnTp1UuXJlzZs3z9L2+OOPy8PDQwsXLrRjZSWXyWTSJ598oi5duki61gsXEBCgYcOG6aWXXpIkZWdnq3Llypo8ebIGDBhgt1rpiSthcnJytHfvXj300ENW7Q899JC2b99up6pKn/T0dElSuXLl7FxJyffcc8+pY8eOateunb1LKfHWrFmjiIgIPfHEE6pUqZLCw8P14Ycf2rusEu3BBx/Uhg0bdOTIEUnSd999p61bt6pDhw52rqz0OH78uM6ePWv1u+rq6qqoqCi7/6462fXoKHJ//PGH8vLyVLlyZav2ypUr6+zZs3aqqnQxm80aPny4HnzwQdWrV8/e5ZRoy5Yt0759+5ScnGzvUkqFn3/+WbNnz9bw4cP1yiuvaPfu3RoyZIhcXV3Vu3dve5dXIr300ktKT0/XfffdJ0dHR+Xl5emtt97Sk08+ae/SSo3rv503+109efKkPUqyIMSVUCaTyWrebDYXaEPxeP755/X9999r69at9i6lRDt16pSGDh2qr7/+Wm5ubvYup1TIz89XRESEJk6cKEkKDw/XgQMHNHv2bEJcMfn444+1aNEiLVmyRGFhYUpJSdGwYcMUEBCgPn362Lu8UuVe/F0lxJUwFSpUkKOjY4Fet7S0tAL/XwSK3r/+9S+tWbNGmzdvVtWqVe1dTom2d+9epaWlqUmTJpa2vLw8bd68WTNnzlR2drYcHR3tWGHJ4+/vr7p161q11alTRytXrrRTRSXfyJEj9fLLL6tnz56SpPr16+vkyZOKj48nxN0lfn5+kq71yPn7+1va74XfVZ6JK2FcXFzUpEkTrV+/3qp9/fr1atGihZ2qKvnMZrOef/55rVq1St9++62Cg4PtXVKJ17ZtW/3www9KSUmxTBEREXrqqaeUkpJCgCsGLVu2LPDqnCNHjqhatWp2qqjky8rKkoOD9U+1o6Mjrxi5i4KDg+Xn52f1u5qTk6NNmzbZ/XeVnrgSaPjw4XrmmWcUERGh5s2ba+7cuUpNTdXAgQPtXVqJ9dxzz2nJkiX69NNP5e3tbekJ9fX1lbu7u52rK5m8vb0LPHPo6emp8uXL8yxiMXnhhRfUokULTZw4Ud27d9fu3bs1d+5czZ07196llVidO3fWW2+9paCgIIWFhWn//v2aNm2a+vXrZ+/SSpRLly7p6NGjlvnjx48rJSVF5cqVU1BQkIYNG6aJEyeqZs2aqlmzpiZOnCgPDw/16tXLjlVLMqNE+uCDD8zVqlUzu7i4mBs3bmzetGmTvUsq0STddEpMTLR3aaVKVFSUeejQofYuo0T77LPPzPXq1TO7urqa77vvPvPcuXPtXVKJlpGRYR46dKg5KCjI7ObmZg4JCTG/+uqr5uzsbHuXVqJs3Ljxpv83vE+fPmaz2WzOz883jx071uzn52d2dXU1R0ZGmn/44Qf7Fm02m3lPHAAAgAHxTBwAAIABEeIAAAAMiBAHAABgQIQ4AAAAAyLEAQAAGBAhDgAAwIAIcQAAAAZEiAMAADAgQhwAAIABEeIAAAAMiBAHAABgQIQ4AAAAA/r/AGkuvMy30MyVAAAAAElFTkSuQmCC",
      "text/plain": [
       "<Figure size 640x480 with 1 Axes>"
      ]
     },
     "metadata": {},
     "output_type": "display_data"
    }
   ],
   "source": [
    "#groupby and then plot -- kind = 'barh'\n",
    "sales.groupby('Weekday Name')[['M01AB', 'N05B']].mean().sort_values(by = 'M01AB').plot(kind = 'barh');"
   ]
  },
  {
   "cell_type": "markdown",
   "metadata": {},
   "source": [
    "#### Multiple Summaries with `agg`\n",
    "\n",
    "Rather than a single aggregate formula, we can use mutliple aggregate functions with the `.agg` method, and pass the functions or common names as strings.  You may also use a custom function."
   ]
  },
  {
   "cell_type": "code",
   "execution_count": 5,
   "metadata": {},
   "outputs": [
    {
     "data": {
      "text/html": [
       "<div>\n",
       "<style scoped>\n",
       "    .dataframe tbody tr th:only-of-type {\n",
       "        vertical-align: middle;\n",
       "    }\n",
       "\n",
       "    .dataframe tbody tr th {\n",
       "        vertical-align: top;\n",
       "    }\n",
       "\n",
       "    .dataframe thead tr th {\n",
       "        text-align: left;\n",
       "    }\n",
       "\n",
       "    .dataframe thead tr:last-of-type th {\n",
       "        text-align: right;\n",
       "    }\n",
       "</style>\n",
       "<table border=\"1\" class=\"dataframe\">\n",
       "  <thead>\n",
       "    <tr>\n",
       "      <th></th>\n",
       "      <th colspan=\"4\" halign=\"left\">M01AB</th>\n",
       "    </tr>\n",
       "    <tr>\n",
       "      <th></th>\n",
       "      <th>mean</th>\n",
       "      <th>std</th>\n",
       "      <th>median</th>\n",
       "      <th>median</th>\n",
       "    </tr>\n",
       "    <tr>\n",
       "      <th>Weekday Name</th>\n",
       "      <th></th>\n",
       "      <th></th>\n",
       "      <th></th>\n",
       "      <th></th>\n",
       "    </tr>\n",
       "  </thead>\n",
       "  <tbody>\n",
       "    <tr>\n",
       "      <th>Friday</th>\n",
       "      <td>4.770476</td>\n",
       "      <td>2.485300</td>\n",
       "      <td>4.50</td>\n",
       "      <td>4.50</td>\n",
       "    </tr>\n",
       "    <tr>\n",
       "      <th>Monday</th>\n",
       "      <td>5.055736</td>\n",
       "      <td>2.688525</td>\n",
       "      <td>5.00</td>\n",
       "      <td>5.00</td>\n",
       "    </tr>\n",
       "    <tr>\n",
       "      <th>Saturday</th>\n",
       "      <td>5.727755</td>\n",
       "      <td>2.907926</td>\n",
       "      <td>5.01</td>\n",
       "      <td>5.01</td>\n",
       "    </tr>\n",
       "    <tr>\n",
       "      <th>Sunday</th>\n",
       "      <td>5.287175</td>\n",
       "      <td>2.908975</td>\n",
       "      <td>5.00</td>\n",
       "      <td>5.00</td>\n",
       "    </tr>\n",
       "    <tr>\n",
       "      <th>Thursday</th>\n",
       "      <td>4.549169</td>\n",
       "      <td>2.575230</td>\n",
       "      <td>4.33</td>\n",
       "      <td>4.33</td>\n",
       "    </tr>\n",
       "    <tr>\n",
       "      <th>Tuesday</th>\n",
       "      <td>5.047331</td>\n",
       "      <td>2.816525</td>\n",
       "      <td>4.68</td>\n",
       "      <td>4.68</td>\n",
       "    </tr>\n",
       "    <tr>\n",
       "      <th>Wednesday</th>\n",
       "      <td>4.797356</td>\n",
       "      <td>2.609771</td>\n",
       "      <td>4.34</td>\n",
       "      <td>4.34</td>\n",
       "    </tr>\n",
       "  </tbody>\n",
       "</table>\n",
       "</div>"
      ],
      "text/plain": [
       "                 M01AB                        \n",
       "                  mean       std median median\n",
       "Weekday Name                                  \n",
       "Friday        4.770476  2.485300   4.50   4.50\n",
       "Monday        5.055736  2.688525   5.00   5.00\n",
       "Saturday      5.727755  2.907926   5.01   5.01\n",
       "Sunday        5.287175  2.908975   5.00   5.00\n",
       "Thursday      4.549169  2.575230   4.33   4.33\n",
       "Tuesday       5.047331  2.816525   4.68   4.68\n",
       "Wednesday     4.797356  2.609771   4.34   4.34"
      ]
     },
     "execution_count": 5,
     "metadata": {},
     "output_type": "execute_result"
    }
   ],
   "source": [
    "#mean and standard deviation\n",
    "sales.groupby('Weekday Name')[['M01AB']].agg(['mean', 'std', 'median', np.median])"
   ]
  },
  {
   "cell_type": "code",
   "execution_count": 6,
   "metadata": {},
   "outputs": [],
   "source": [
    "#custom functino to fine range in data\n",
    "def lowhi(x):\n",
    "    return x.max() - x.min()"
   ]
  },
  {
   "cell_type": "code",
   "execution_count": 7,
   "metadata": {},
   "outputs": [
    {
     "data": {
      "text/html": [
       "<div>\n",
       "<style scoped>\n",
       "    .dataframe tbody tr th:only-of-type {\n",
       "        vertical-align: middle;\n",
       "    }\n",
       "\n",
       "    .dataframe tbody tr th {\n",
       "        vertical-align: top;\n",
       "    }\n",
       "\n",
       "    .dataframe thead tr th {\n",
       "        text-align: left;\n",
       "    }\n",
       "\n",
       "    .dataframe thead tr:last-of-type th {\n",
       "        text-align: right;\n",
       "    }\n",
       "</style>\n",
       "<table border=\"1\" class=\"dataframe\">\n",
       "  <thead>\n",
       "    <tr>\n",
       "      <th></th>\n",
       "      <th colspan=\"3\" halign=\"left\">M01AB</th>\n",
       "    </tr>\n",
       "    <tr>\n",
       "      <th></th>\n",
       "      <th>mean</th>\n",
       "      <th>median</th>\n",
       "      <th>lowhi</th>\n",
       "    </tr>\n",
       "    <tr>\n",
       "      <th>Weekday Name</th>\n",
       "      <th></th>\n",
       "      <th></th>\n",
       "      <th></th>\n",
       "    </tr>\n",
       "  </thead>\n",
       "  <tbody>\n",
       "    <tr>\n",
       "      <th>Friday</th>\n",
       "      <td>4.770476</td>\n",
       "      <td>4.50</td>\n",
       "      <td>12.50</td>\n",
       "    </tr>\n",
       "    <tr>\n",
       "      <th>Monday</th>\n",
       "      <td>5.055736</td>\n",
       "      <td>5.00</td>\n",
       "      <td>14.66</td>\n",
       "    </tr>\n",
       "    <tr>\n",
       "      <th>Saturday</th>\n",
       "      <td>5.727755</td>\n",
       "      <td>5.01</td>\n",
       "      <td>17.34</td>\n",
       "    </tr>\n",
       "    <tr>\n",
       "      <th>Sunday</th>\n",
       "      <td>5.287175</td>\n",
       "      <td>5.00</td>\n",
       "      <td>17.00</td>\n",
       "    </tr>\n",
       "    <tr>\n",
       "      <th>Thursday</th>\n",
       "      <td>4.549169</td>\n",
       "      <td>4.33</td>\n",
       "      <td>16.68</td>\n",
       "    </tr>\n",
       "    <tr>\n",
       "      <th>Tuesday</th>\n",
       "      <td>5.047331</td>\n",
       "      <td>4.68</td>\n",
       "      <td>14.33</td>\n",
       "    </tr>\n",
       "    <tr>\n",
       "      <th>Wednesday</th>\n",
       "      <td>4.797356</td>\n",
       "      <td>4.34</td>\n",
       "      <td>13.68</td>\n",
       "    </tr>\n",
       "  </tbody>\n",
       "</table>\n",
       "</div>"
      ],
      "text/plain": [
       "                 M01AB              \n",
       "                  mean median  lowhi\n",
       "Weekday Name                        \n",
       "Friday        4.770476   4.50  12.50\n",
       "Monday        5.055736   5.00  14.66\n",
       "Saturday      5.727755   5.01  17.34\n",
       "Sunday        5.287175   5.00  17.00\n",
       "Thursday      4.549169   4.33  16.68\n",
       "Tuesday       5.047331   4.68  14.33\n",
       "Wednesday     4.797356   4.34  13.68"
      ]
     },
     "execution_count": 7,
     "metadata": {},
     "output_type": "execute_result"
    }
   ],
   "source": [
    "#mean, median, range\n",
    "sales.groupby('Weekday Name')[['M01AB']].agg(['mean', 'median', lowhi])"
   ]
  },
  {
   "cell_type": "markdown",
   "metadata": {},
   "source": [
=======
>>>>>>> upstream/main
    "## Data Input via APIs\n",
    "\n",
    "This is about using an api \"Application program interface\" ...basic idea, allows\n",
    "direct access to some database or parts of it without having do download everything\n",
    "\n"
   ]
  },
  {
   "cell_type": "code",
   "execution_count": null,
   "metadata": {},
   "outputs": [],
   "source": [
    "import os\n",
    "import pandas as pd\n",
    "import matplotlib.pyplot as plt\n",
    "import datetime "
   ]
  },
  {
   "cell_type": "markdown",
   "metadata": {},
   "source": [
    "**Quick Example**\n",
    "\n",
    "Yahoo Finance has a python library that will pull data directly from the source and structure it as a `DataFrame`.  See info [here](https://github.com/ranaroussi/yfinance)."
   ]
  },
  {
   "cell_type": "code",
   "execution_count": 9,
   "metadata": {
    "scrolled": false
   },
   "outputs": [
    {
     "name": "stdout",
     "output_type": "stream",
     "text": [
      "Collecting yfinance\n",
      "  Obtaining dependency information for yfinance from https://files.pythonhosted.org/packages/51/31/72b8f5aa9ed9c4a6afd09c0bab491862ba5837facf7d81e1ed51a555ae8e/yfinance-0.2.44-py2.py3-none-any.whl.metadata\n",
      "  Downloading yfinance-0.2.44-py2.py3-none-any.whl.metadata (13 kB)\n",
      "Requirement already satisfied: pandas>=1.3.0 in /opt/homebrew/anaconda3/lib/python3.11/site-packages (from yfinance) (2.0.3)\n",
      "Requirement already satisfied: numpy>=1.16.5 in /opt/homebrew/anaconda3/lib/python3.11/site-packages (from yfinance) (1.24.3)\n",
      "Requirement already satisfied: requests>=2.31 in /opt/homebrew/anaconda3/lib/python3.11/site-packages (from yfinance) (2.31.0)\n",
      "Collecting multitasking>=0.0.7 (from yfinance)\n",
      "  Obtaining dependency information for multitasking>=0.0.7 from https://files.pythonhosted.org/packages/3e/8a/bb3160e76e844db9e69a413f055818969c8acade64e1a9ac5ce9dfdcf6c1/multitasking-0.0.11-py3-none-any.whl.metadata\n",
      "  Downloading multitasking-0.0.11-py3-none-any.whl.metadata (5.5 kB)\n",
      "Requirement already satisfied: lxml>=4.9.1 in /opt/homebrew/anaconda3/lib/python3.11/site-packages (from yfinance) (4.9.3)\n",
      "Requirement already satisfied: platformdirs>=2.0.0 in /opt/homebrew/anaconda3/lib/python3.11/site-packages (from yfinance) (3.10.0)\n",
      "Requirement already satisfied: pytz>=2022.5 in /opt/homebrew/anaconda3/lib/python3.11/site-packages (from yfinance) (2023.3.post1)\n",
      "Collecting frozendict>=2.3.4 (from yfinance)\n",
      "  Obtaining dependency information for frozendict>=2.3.4 from https://files.pythonhosted.org/packages/6a/71/3656c00606e75e81f11721e6a1c973c3e03da8c7d8b665d20f78245384c6/frozendict-2.4.4-py311-none-any.whl.metadata\n",
      "  Downloading frozendict-2.4.4-py311-none-any.whl.metadata (23 kB)\n",
      "Collecting peewee>=3.16.2 (from yfinance)\n",
      "  Downloading peewee-3.17.6.tar.gz (3.0 MB)\n",
      "\u001b[2K     \u001b[90m━━━━━━━━━━━━━━━━━━━━━━━━━━━━━━━━━━━━━━━━\u001b[0m \u001b[32m3.0/3.0 MB\u001b[0m \u001b[31m15.4 MB/s\u001b[0m eta \u001b[36m0:00:00\u001b[0m00:01\u001b[0m00:01\u001b[0m\n",
      "\u001b[?25h  Installing build dependencies ... \u001b[?25ldone\n",
      "\u001b[?25h  Getting requirements to build wheel ... \u001b[?25ldone\n",
      "\u001b[?25h  Preparing metadata (pyproject.toml) ... \u001b[?25ldone\n",
      "\u001b[?25hRequirement already satisfied: beautifulsoup4>=4.11.1 in /opt/homebrew/anaconda3/lib/python3.11/site-packages (from yfinance) (4.12.2)\n",
      "Collecting html5lib>=1.1 (from yfinance)\n",
      "  Obtaining dependency information for html5lib>=1.1 from https://files.pythonhosted.org/packages/6c/dd/a834df6482147d48e225a49515aabc28974ad5a4ca3215c18a882565b028/html5lib-1.1-py2.py3-none-any.whl.metadata\n",
      "  Downloading html5lib-1.1-py2.py3-none-any.whl.metadata (16 kB)\n",
      "Requirement already satisfied: soupsieve>1.2 in /opt/homebrew/anaconda3/lib/python3.11/site-packages (from beautifulsoup4>=4.11.1->yfinance) (2.4)\n",
      "Requirement already satisfied: six>=1.9 in /opt/homebrew/anaconda3/lib/python3.11/site-packages (from html5lib>=1.1->yfinance) (1.16.0)\n",
      "Requirement already satisfied: webencodings in /opt/homebrew/anaconda3/lib/python3.11/site-packages (from html5lib>=1.1->yfinance) (0.5.1)\n",
      "Requirement already satisfied: python-dateutil>=2.8.2 in /opt/homebrew/anaconda3/lib/python3.11/site-packages (from pandas>=1.3.0->yfinance) (2.8.2)\n",
      "Requirement already satisfied: tzdata>=2022.1 in /opt/homebrew/anaconda3/lib/python3.11/site-packages (from pandas>=1.3.0->yfinance) (2023.3)\n",
      "Requirement already satisfied: charset-normalizer<4,>=2 in /opt/homebrew/anaconda3/lib/python3.11/site-packages (from requests>=2.31->yfinance) (2.0.4)\n",
      "Requirement already satisfied: idna<4,>=2.5 in /opt/homebrew/anaconda3/lib/python3.11/site-packages (from requests>=2.31->yfinance) (3.4)\n",
      "Requirement already satisfied: urllib3<3,>=1.21.1 in /opt/homebrew/anaconda3/lib/python3.11/site-packages (from requests>=2.31->yfinance) (1.26.16)\n",
      "Requirement already satisfied: certifi>=2017.4.17 in /opt/homebrew/anaconda3/lib/python3.11/site-packages (from requests>=2.31->yfinance) (2023.11.17)\n",
      "Downloading yfinance-0.2.44-py2.py3-none-any.whl (94 kB)\n",
      "\u001b[2K   \u001b[90m━━━━━━━━━━━━━━━━━━━━━━━━━━━━━━━━━━━━━━━━\u001b[0m \u001b[32m94.6/94.6 kB\u001b[0m \u001b[31m8.0 MB/s\u001b[0m eta \u001b[36m0:00:00\u001b[0m\n",
      "\u001b[?25hDownloading frozendict-2.4.4-py311-none-any.whl (16 kB)\n",
      "Downloading html5lib-1.1-py2.py3-none-any.whl (112 kB)\n",
      "\u001b[2K   \u001b[90m━━━━━━━━━━━━━━━━━━━━━━━━━━━━━━━━━━━━━━━━\u001b[0m \u001b[32m112.2/112.2 kB\u001b[0m \u001b[31m11.4 MB/s\u001b[0m eta \u001b[36m0:00:00\u001b[0m\n",
      "\u001b[?25hDownloading multitasking-0.0.11-py3-none-any.whl (8.5 kB)\n",
      "Building wheels for collected packages: peewee\n",
      "  Building wheel for peewee (pyproject.toml) ... \u001b[?25ldone\n",
      "\u001b[?25h  Created wheel for peewee: filename=peewee-3.17.6-cp311-cp311-macosx_11_0_arm64.whl size=246818 sha256=4709903de47414e2bad4aca38ea6f321c9cd130595a404e2e1c00aeb906b7247\n",
      "  Stored in directory: /Users/absera/Library/Caches/pip/wheels/1c/09/7e/9f659fde248ecdc1722a142c1d744271aad3914a0afc191058\n",
      "Successfully built peewee\n",
      "Installing collected packages: peewee, multitasking, html5lib, frozendict, yfinance\n",
      "Successfully installed frozendict-2.4.4 html5lib-1.1 multitasking-0.0.11 peewee-3.17.6 yfinance-0.2.44\n",
      "Note: you may need to restart the kernel to use updated packages.\n"
     ]
    }
   ],
   "source": [
    "pip install yfinance"
   ]
  },
  {
   "cell_type": "code",
   "execution_count": 10,
   "metadata": {},
   "outputs": [],
   "source": [
    "import yfinance as yf"
   ]
  },
  {
   "cell_type": "code",
   "execution_count": null,
   "metadata": {},
   "outputs": [],
   "source": [
    "#get tsla data\n",
    "tsla = yf.Ticker(\"TSLA\")"
   ]
  },
  {
   "cell_type": "code",
   "execution_count": null,
   "metadata": {},
   "outputs": [],
   "source": [
    "# get historical market data\n",
    "hist = tsla.history(period=\"1mo\")"
   ]
  },
  {
   "cell_type": "code",
   "execution_count": null,
   "metadata": {},
   "outputs": [],
   "source": [
    "hist.head()"
   ]
  },
  {
   "cell_type": "code",
   "execution_count": null,
   "metadata": {},
   "outputs": [],
   "source": []
  },
  {
   "cell_type": "code",
   "execution_count": null,
   "metadata": {},
   "outputs": [],
   "source": []
  },
  {
   "cell_type": "code",
   "execution_count": null,
   "metadata": {},
   "outputs": [],
   "source": []
  },
  {
   "cell_type": "code",
   "execution_count": null,
   "metadata": {},
   "outputs": [],
   "source": []
  },
  {
   "cell_type": "markdown",
   "metadata": {},
   "source": [
    "### Accessing Data Without a Library\n",
    "\n",
    "\n",
    "\n",
    "![](images/catapi.png)"
   ]
  },
  {
   "cell_type": "code",
   "execution_count": 21,
   "metadata": {},
   "outputs": [],
   "source": [
    "import requests\n",
    "import json"
   ]
  },
  {
   "cell_type": "markdown",
   "metadata": {},
   "source": [
    "Head over to the website [here](https://thecatapi.com/)."
   ]
  },
  {
   "cell_type": "code",
   "execution_count": 12,
   "metadata": {},
   "outputs": [],
   "source": [
    "#getting that information using requests\n",
    "url = 'https://api.thecatapi.com/v1/images/search'\n",
    "response = requests.get(url)"
   ]
  },
  {
   "cell_type": "code",
   "execution_count": 23,
   "metadata": {},
   "outputs": [
    {
     "data": {
      "text/plain": [
       "'https://cdn2.thecatapi.com/images/cds.jpg'"
      ]
     },
     "execution_count": 23,
     "metadata": {},
     "output_type": "execute_result"
    }
   ],
   "source": [
    "#results\n",
    "json.loads(response.text)[0]['url']\n",
    "# or response.json() "
   ]
  },
  {
   "cell_type": "markdown",
   "metadata": {},
   "source": [
    "**Response**\n",
    "\n",
    "- Random Cat: https://api.thecatapi.com/v1/images/search\n",
    "- 10 Bengal Cats: https://api.thecatapi.com/v1/images/search?limit=10&breed_ids=beng&api_key=REPLACE_ME"
   ]
  },
  {
   "cell_type": "code",
   "execution_count": null,
   "metadata": {},
   "outputs": [],
   "source": [
    "#url for a random cat\n"
   ]
  },
  {
   "cell_type": "code",
   "execution_count": null,
   "metadata": {},
   "outputs": [],
   "source": [
    "#request of the url\n"
   ]
  },
  {
   "cell_type": "code",
   "execution_count": null,
   "metadata": {},
   "outputs": [],
   "source": [
    "#look at response code\n"
   ]
  },
  {
   "cell_type": "code",
   "execution_count": null,
   "metadata": {},
   "outputs": [],
   "source": [
    "#text of request\n"
   ]
  },
  {
   "cell_type": "code",
   "execution_count": null,
   "metadata": {},
   "outputs": [],
   "source": [
    "#examine the json\n"
   ]
  },
  {
   "cell_type": "code",
   "execution_count": null,
   "metadata": {},
   "outputs": [],
   "source": [
    "#repeat for bengal cats\n"
   ]
  },
  {
   "cell_type": "code",
   "execution_count": null,
   "metadata": {},
   "outputs": [],
   "source": [
    "#extract the links to images\n"
   ]
  },
  {
   "cell_type": "markdown",
   "metadata": {},
   "source": [
    "**Extra Problem**: \n",
    "\n",
    "\n",
    "\n",
    "Head over to the Dog API [here](https://dog.ceo/dog-api/).  \n",
    "\n",
    "1. Make a request that returns a list of all dog breeds.\n",
    "\n",
    "2. Make a request that returns a random image of a dog and extract the url.  "
   ]
  },
  {
   "cell_type": "code",
   "execution_count": null,
   "metadata": {},
   "outputs": [],
   "source": []
  },
  {
   "cell_type": "code",
   "execution_count": null,
   "metadata": {},
   "outputs": [],
   "source": []
  },
  {
   "cell_type": "code",
   "execution_count": null,
   "metadata": {},
   "outputs": [],
   "source": []
  },
  {
   "cell_type": "code",
   "execution_count": null,
   "metadata": {},
   "outputs": [],
   "source": []
  },
  {
   "cell_type": "code",
   "execution_count": null,
   "metadata": {},
   "outputs": [],
   "source": []
  },
  {
   "cell_type": "markdown",
   "metadata": {},
   "source": [
    "### ALPHA VANTAGE\n",
    "\n",
    "The API for Alpha Vantage provides many Forex and Crypto feeds as well as economic and technical indicators.  To use it, you will need an API key -- so head over to [here](https://www.alphavantage.co/#page-top) and let's sign up for one. \n",
    "\n",
    "![](images/alpha.png)"
   ]
  },
  {
   "cell_type": "code",
   "execution_count": 34,
   "metadata": {},
   "outputs": [],
   "source": [
    "base_url = 'https://www.alphavantage.co/query?function=TIME_SERIES_INTRADAY&symbol=IBM&interval=5min&apikey=G86JY68YH7A1QPT7'\n"
   ]
  },
  {
   "cell_type": "code",
   "execution_count": 42,
   "metadata": {},
   "outputs": [],
   "source": [
    "#examine the response\n",
    "res = requests.get(base_url).json()['Time Series (5min)']"
   ]
  },
  {
   "cell_type": "code",
   "execution_count": 43,
   "metadata": {},
   "outputs": [
    {
     "data": {
      "text/html": [
       "<div>\n",
       "<style scoped>\n",
       "    .dataframe tbody tr th:only-of-type {\n",
       "        vertical-align: middle;\n",
       "    }\n",
       "\n",
       "    .dataframe tbody tr th {\n",
       "        vertical-align: top;\n",
       "    }\n",
       "\n",
       "    .dataframe thead th {\n",
       "        text-align: right;\n",
       "    }\n",
       "</style>\n",
       "<table border=\"1\" class=\"dataframe\">\n",
       "  <thead>\n",
       "    <tr style=\"text-align: right;\">\n",
       "      <th></th>\n",
       "      <th>1. open</th>\n",
       "      <th>2. high</th>\n",
       "      <th>3. low</th>\n",
       "      <th>4. close</th>\n",
       "      <th>5. volume</th>\n",
       "    </tr>\n",
       "  </thead>\n",
       "  <tbody>\n",
       "    <tr>\n",
       "      <th>2024-10-02 19:55:00</th>\n",
       "      <td>219.8500</td>\n",
       "      <td>219.8500</td>\n",
       "      <td>219.8500</td>\n",
       "      <td>219.8500</td>\n",
       "      <td>55</td>\n",
       "    </tr>\n",
       "    <tr>\n",
       "      <th>2024-10-02 19:50:00</th>\n",
       "      <td>220.1000</td>\n",
       "      <td>220.1000</td>\n",
       "      <td>220.1000</td>\n",
       "      <td>220.1000</td>\n",
       "      <td>2</td>\n",
       "    </tr>\n",
       "    <tr>\n",
       "      <th>2024-10-02 19:40:00</th>\n",
       "      <td>220.0900</td>\n",
       "      <td>220.0900</td>\n",
       "      <td>220.0900</td>\n",
       "      <td>220.0900</td>\n",
       "      <td>1012</td>\n",
       "    </tr>\n",
       "    <tr>\n",
       "      <th>2024-10-02 19:25:00</th>\n",
       "      <td>220.1000</td>\n",
       "      <td>220.1000</td>\n",
       "      <td>220.1000</td>\n",
       "      <td>220.1000</td>\n",
       "      <td>1000</td>\n",
       "    </tr>\n",
       "    <tr>\n",
       "      <th>2024-10-02 19:15:00</th>\n",
       "      <td>220.0000</td>\n",
       "      <td>220.0000</td>\n",
       "      <td>219.8400</td>\n",
       "      <td>219.8400</td>\n",
       "      <td>104</td>\n",
       "    </tr>\n",
       "    <tr>\n",
       "      <th>...</th>\n",
       "      <td>...</td>\n",
       "      <td>...</td>\n",
       "      <td>...</td>\n",
       "      <td>...</td>\n",
       "      <td>...</td>\n",
       "    </tr>\n",
       "    <tr>\n",
       "      <th>2024-10-02 10:20:00</th>\n",
       "      <td>218.7282</td>\n",
       "      <td>218.7800</td>\n",
       "      <td>218.0200</td>\n",
       "      <td>218.6000</td>\n",
       "      <td>24077</td>\n",
       "    </tr>\n",
       "    <tr>\n",
       "      <th>2024-10-02 10:15:00</th>\n",
       "      <td>218.8100</td>\n",
       "      <td>218.8150</td>\n",
       "      <td>218.4500</td>\n",
       "      <td>218.6100</td>\n",
       "      <td>19540</td>\n",
       "    </tr>\n",
       "    <tr>\n",
       "      <th>2024-10-02 10:10:00</th>\n",
       "      <td>218.5850</td>\n",
       "      <td>218.9300</td>\n",
       "      <td>218.5200</td>\n",
       "      <td>218.8850</td>\n",
       "      <td>29464</td>\n",
       "    </tr>\n",
       "    <tr>\n",
       "      <th>2024-10-02 10:05:00</th>\n",
       "      <td>218.3850</td>\n",
       "      <td>218.6400</td>\n",
       "      <td>218.3145</td>\n",
       "      <td>218.5850</td>\n",
       "      <td>27917</td>\n",
       "    </tr>\n",
       "    <tr>\n",
       "      <th>2024-10-02 10:00:00</th>\n",
       "      <td>217.8650</td>\n",
       "      <td>218.5400</td>\n",
       "      <td>217.8400</td>\n",
       "      <td>218.3900</td>\n",
       "      <td>24162</td>\n",
       "    </tr>\n",
       "  </tbody>\n",
       "</table>\n",
       "<p>100 rows × 5 columns</p>\n",
       "</div>"
      ],
      "text/plain": [
       "                      1. open   2. high    3. low  4. close 5. volume\n",
       "2024-10-02 19:55:00  219.8500  219.8500  219.8500  219.8500        55\n",
       "2024-10-02 19:50:00  220.1000  220.1000  220.1000  220.1000         2\n",
       "2024-10-02 19:40:00  220.0900  220.0900  220.0900  220.0900      1012\n",
       "2024-10-02 19:25:00  220.1000  220.1000  220.1000  220.1000      1000\n",
       "2024-10-02 19:15:00  220.0000  220.0000  219.8400  219.8400       104\n",
       "...                       ...       ...       ...       ...       ...\n",
       "2024-10-02 10:20:00  218.7282  218.7800  218.0200  218.6000     24077\n",
       "2024-10-02 10:15:00  218.8100  218.8150  218.4500  218.6100     19540\n",
       "2024-10-02 10:10:00  218.5850  218.9300  218.5200  218.8850     29464\n",
       "2024-10-02 10:05:00  218.3850  218.6400  218.3145  218.5850     27917\n",
       "2024-10-02 10:00:00  217.8650  218.5400  217.8400  218.3900     24162\n",
       "\n",
       "[100 rows x 5 columns]"
      ]
     },
     "execution_count": 43,
     "metadata": {},
     "output_type": "execute_result"
    }
   ],
   "source": [
    "#extract the headline\n",
    "df = pd.DataFrame(res).T\n",
    "df"
   ]
  },
  {
   "cell_type": "markdown",
   "metadata": {},
   "source": [
    "**Exercise**\n",
    "\n",
    "Use the `TIME_SERIES_DAILY` endpoint to extract data for `AAPL`. "
   ]
  },
  {
   "cell_type": "code",
   "execution_count": 45,
   "metadata": {},
   "outputs": [],
   "source": [
    "base_url = 'https://www.alphavantage.co/query?function=NEWS_SENTIMENT&apikey=G86JY68YH7A1QPT7'"
   ]
  },
  {
   "cell_type": "code",
   "execution_count": 48,
   "metadata": {},
   "outputs": [
    {
     "data": {
      "text/plain": [
       "{'title': 'Mercedes-Benz Fashion Week Mexico returns from October 15 to 18 with over 20 fashion experiences and key support for the Mexican fashion industry.',\n",
       " 'url': 'https://www.benzinga.com/pressreleases/24/10/n41165408/mercedes-benz-fashion-week-mexico-returns-from-october-15-to-18-with-over-20-fashion-experiences-a',\n",
       " 'time_published': '20241003T140000',\n",
       " 'authors': ['PRNewswire'],\n",
       " 'summary': 'MEXICO CITY, Oct. 3, 2024 /PRNewswire/ -- Mercedes-Benz Fashion Week Mexico is back in the urban setting of Mexico City from October 15 to 18, solidifying its position as the fashion epicenter of the country.',\n",
       " 'banner_image': 'https://www.benzinga.com/next-assets/images/schema-image-default.png',\n",
       " 'source': 'Benzinga',\n",
       " 'category_within_source': 'General',\n",
       " 'source_domain': 'www.benzinga.com',\n",
       " 'topics': [{'topic': 'Technology', 'relevance_score': '1.0'}],\n",
       " 'overall_sentiment_score': 0.348053,\n",
       " 'overall_sentiment_label': 'Somewhat-Bullish',\n",
       " 'ticker_sentiment': [{'ticker': 'PINS',\n",
       "   'relevance_score': '0.09186',\n",
       "   'ticker_sentiment_score': '0.058491',\n",
       "   'ticker_sentiment_label': 'Neutral'}]}"
      ]
     },
     "execution_count": 48,
     "metadata": {},
     "output_type": "execute_result"
    }
   ],
   "source": [
    "requests.get(base_url).json()['feed'][0]"
   ]
  },
  {
   "cell_type": "markdown",
   "metadata": {},
   "source": [
    "### Different Endpoints\n",
    "\n",
    "Let's explore some news about Apple.  The documentation on the news & sentiment endpoint is [here](https://www.alphavantage.co/documentation/#news-sentiment). "
   ]
  },
  {
   "cell_type": "code",
   "execution_count": null,
   "metadata": {},
   "outputs": [],
   "source": [
    "base_url = 'https://www.alphavantage.co/query'"
   ]
  },
  {
   "cell_type": "code",
   "execution_count": null,
   "metadata": {},
   "outputs": [],
   "source": [
    "#news about AAPL\n"
   ]
  },
  {
   "cell_type": "markdown",
   "metadata": {},
   "source": [
    "**PROBLEM**: Extract weekly data for bitcoin (`BTC`) from the Cryptocurrency endpoint in Alpha Vantage.\n"
   ]
  },
  {
   "cell_type": "code",
   "execution_count": null,
   "metadata": {},
   "outputs": [],
   "source": []
  },
  {
   "cell_type": "code",
   "execution_count": null,
   "metadata": {},
   "outputs": [],
   "source": []
  },
  {
   "cell_type": "code",
   "execution_count": null,
   "metadata": {},
   "outputs": [],
   "source": []
  },
  {
   "cell_type": "code",
   "execution_count": null,
   "metadata": {},
   "outputs": [],
   "source": []
  },
  {
   "cell_type": "markdown",
   "metadata": {},
   "source": [
    "#### API Wrappers\n",
    "\n",
    "Often, someone has written a library to wrap the API.  For example, there is an alpha vantage Python API wrapper:\n",
    "\n",
    "- https://github.com/RomelTorres/alpha_vantage\n",
    "\n"
   ]
  },
  {
   "cell_type": "code",
   "execution_count": null,
   "metadata": {},
   "outputs": [],
   "source": []
  },
  {
   "cell_type": "code",
   "execution_count": null,
   "metadata": {},
   "outputs": [],
   "source": []
  },
  {
   "cell_type": "code",
   "execution_count": null,
   "metadata": {},
   "outputs": [],
   "source": []
  },
  {
   "cell_type": "code",
   "execution_count": null,
   "metadata": {},
   "outputs": [],
   "source": []
  },
  {
   "cell_type": "code",
   "execution_count": null,
   "metadata": {},
   "outputs": [],
   "source": []
  },
  {
   "cell_type": "code",
   "execution_count": null,
   "metadata": {},
   "outputs": [],
   "source": []
  },
  {
   "cell_type": "code",
   "execution_count": null,
   "metadata": {},
   "outputs": [],
   "source": []
  },
  {
   "cell_type": "markdown",
   "metadata": {},
   "source": [
    "#### Summary\n",
    "\n",
    "Great job!  Now, you have additional tools for going out and accessing data from a variety of sources.  Your homework this week will involve extracting further information from the API's and visualizing this with `seaborn` and `matplotlib`."
   ]
  }
 ],
 "metadata": {
  "anaconda-cloud": {},
  "hide_input": false,
  "kernelspec": {
   "display_name": "Python 3 (ipykernel)",
   "language": "python",
   "name": "python3"
  },
  "language_info": {
   "codemirror_mode": {
    "name": "ipython",
    "version": 3
   },
   "file_extension": ".py",
   "mimetype": "text/x-python",
   "name": "python",
   "nbconvert_exporter": "python",
   "pygments_lexer": "ipython3",
   "version": "3.11.5"
  }
 },
 "nbformat": 4,
 "nbformat_minor": 4
}
